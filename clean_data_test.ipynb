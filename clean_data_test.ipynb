{
 "cells": [
  {
   "cell_type": "code",
   "execution_count": null,
   "metadata": {},
   "outputs": [],
   "source": [
    "import pandas as pd"
   ]
  },
  {
   "cell_type": "code",
   "execution_count": 1,
   "metadata": {},
   "outputs": [],
   "source": [
    "import pandas as pd\n",
    "\n",
    "# Load the CSV file into a DataFrame\n",
    "df = pd.read_csv('games.csv')\n",
    "\n",
    "# Remove rows where the \"genres\" column is empty\n",
    "df = df[df['genres'] != '[]']\n",
    "# Divide each value in the \"price\" column by 100 to convert it to float\n",
    "df['price'] = df['price'].apply(lambda x: x/100)\n",
    "# Format the float values in the \"price\" column to have 2 decimal places\n",
    "df['price'] = df['price'].apply(lambda x: '${:,.2f}'.format(x))\n",
    "\n",
    "# Save the updated DataFrame to a new CSV file\n",
    "df.to_csv('file_cleaned.csv', index=False)"
   ]
  }
 ],
 "metadata": {
  "kernelspec": {
   "display_name": "CHB_RECO",
   "language": "python",
   "name": "python3"
  },
  "language_info": {
   "codemirror_mode": {
    "name": "ipython",
    "version": 3
   },
   "file_extension": ".py",
   "mimetype": "text/x-python",
   "name": "python",
   "nbconvert_exporter": "python",
   "pygments_lexer": "ipython3",
   "version": "3.8.16"
  },
  "orig_nbformat": 4,
  "vscode": {
   "interpreter": {
    "hash": "6339f2f95d7bee3d01c2dcda9a7e46fd1be8d244bf6f1b74cc3e843ac34b325a"
   }
  }
 },
 "nbformat": 4,
 "nbformat_minor": 2
}
