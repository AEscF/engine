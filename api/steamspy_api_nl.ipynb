{
 "cells": [
  {
   "cell_type": "code",
   "execution_count": 1,
   "metadata": {},
   "outputs": [
    {
     "ename": "CancelledError",
     "evalue": "",
     "output_type": "error",
     "traceback": [
      "\u001b[1;31m---------------------------------------------------------------------------\u001b[0m",
      "\u001b[1;31mCancelledError\u001b[0m                            Traceback (most recent call last)",
      "Cell \u001b[1;32mIn[1], line 32\u001b[0m\n\u001b[0;32m     29\u001b[0m         \u001b[39mawait\u001b[39;00m save_games_to_csv(session, games)\n\u001b[0;32m     31\u001b[0m \u001b[39mif\u001b[39;00m \u001b[39m__name__\u001b[39m \u001b[39m==\u001b[39m \u001b[39m\"\u001b[39m\u001b[39m__main__\u001b[39m\u001b[39m\"\u001b[39m:\n\u001b[1;32m---> 32\u001b[0m     \u001b[39mawait\u001b[39;00m main()\n",
      "Cell \u001b[1;32mIn[1], line 29\u001b[0m, in \u001b[0;36mmain\u001b[1;34m()\u001b[0m\n\u001b[0;32m     27\u001b[0m \u001b[39masync\u001b[39;00m \u001b[39mwith\u001b[39;00m aiohttp\u001b[39m.\u001b[39mClientSession() \u001b[39mas\u001b[39;00m session:\n\u001b[0;32m     28\u001b[0m     games \u001b[39m=\u001b[39m \u001b[39mawait\u001b[39;00m fetch_games(session)\n\u001b[1;32m---> 29\u001b[0m     \u001b[39mawait\u001b[39;00m save_games_to_csv(session, games)\n",
      "Cell \u001b[1;32mIn[1], line 17\u001b[0m, in \u001b[0;36msave_games_to_csv\u001b[1;34m(session, games)\u001b[0m\n\u001b[0;32m     15\u001b[0m games_data \u001b[39m=\u001b[39m []\n\u001b[0;32m     16\u001b[0m \u001b[39mfor\u001b[39;00m game \u001b[39min\u001b[39;00m games[\u001b[39m\"\u001b[39m\u001b[39mapplist\u001b[39m\u001b[39m\"\u001b[39m][\u001b[39m\"\u001b[39m\u001b[39mapps\u001b[39m\u001b[39m\"\u001b[39m]:\n\u001b[1;32m---> 17\u001b[0m     game_details \u001b[39m=\u001b[39m \u001b[39mawait\u001b[39;00m fetch_game_details(session, game[\u001b[39m\"\u001b[39m\u001b[39mappid\u001b[39m\u001b[39m\"\u001b[39m])\n\u001b[0;32m     18\u001b[0m     \u001b[39mif\u001b[39;00m game_details:\n\u001b[0;32m     19\u001b[0m         data \u001b[39m=\u001b[39m game_details\n",
      "Cell \u001b[1;32mIn[1], line 7\u001b[0m, in \u001b[0;36mfetch_game_details\u001b[1;34m(session, appid)\u001b[0m\n\u001b[0;32m      6\u001b[0m \u001b[39masync\u001b[39;00m \u001b[39mdef\u001b[39;00m \u001b[39mfetch_game_details\u001b[39m(session, appid):\n\u001b[1;32m----> 7\u001b[0m     \u001b[39masync\u001b[39;00m \u001b[39mwith\u001b[39;00m session\u001b[39m.\u001b[39mget(\u001b[39mf\u001b[39m\u001b[39m\"\u001b[39m\u001b[39mhttps://steamspy.com/api.php?request=appdetails&appid=\u001b[39m\u001b[39m{\u001b[39;00mappid\u001b[39m}\u001b[39;00m\u001b[39m\"\u001b[39m) \u001b[39mas\u001b[39;00m resp:\n\u001b[0;32m      8\u001b[0m         \u001b[39mreturn\u001b[39;00m \u001b[39mawait\u001b[39;00m resp\u001b[39m.\u001b[39mjson()\n",
      "File \u001b[1;32mc:\\Users\\struc\\anaconda3\\envs\\CHB\\lib\\site-packages\\aiohttp\\client.py:1141\u001b[0m, in \u001b[0;36m_BaseRequestContextManager.__aenter__\u001b[1;34m(self)\u001b[0m\n\u001b[0;32m   1140\u001b[0m \u001b[39masync\u001b[39;00m \u001b[39mdef\u001b[39;00m \u001b[39m__aenter__\u001b[39m(\u001b[39mself\u001b[39m) \u001b[39m-\u001b[39m\u001b[39m>\u001b[39m _RetType:\n\u001b[1;32m-> 1141\u001b[0m     \u001b[39mself\u001b[39m\u001b[39m.\u001b[39m_resp \u001b[39m=\u001b[39m \u001b[39mawait\u001b[39;00m \u001b[39mself\u001b[39m\u001b[39m.\u001b[39m_coro\n\u001b[0;32m   1142\u001b[0m     \u001b[39mreturn\u001b[39;00m \u001b[39mself\u001b[39m\u001b[39m.\u001b[39m_resp\n",
      "File \u001b[1;32mc:\\Users\\struc\\anaconda3\\envs\\CHB\\lib\\site-packages\\aiohttp\\client.py:560\u001b[0m, in \u001b[0;36mClientSession._request\u001b[1;34m(self, method, str_or_url, params, data, json, cookies, headers, skip_auto_headers, auth, allow_redirects, max_redirects, compress, chunked, expect100, raise_for_status, read_until_eof, proxy, proxy_auth, timeout, verify_ssl, fingerprint, ssl_context, ssl, proxy_headers, trace_request_ctx, read_bufsize)\u001b[0m\n\u001b[0;32m    558\u001b[0m resp \u001b[39m=\u001b[39m \u001b[39mawait\u001b[39;00m req\u001b[39m.\u001b[39msend(conn)\n\u001b[0;32m    559\u001b[0m \u001b[39mtry\u001b[39;00m:\n\u001b[1;32m--> 560\u001b[0m     \u001b[39mawait\u001b[39;00m resp\u001b[39m.\u001b[39mstart(conn)\n\u001b[0;32m    561\u001b[0m \u001b[39mexcept\u001b[39;00m \u001b[39mBaseException\u001b[39;00m:\n\u001b[0;32m    562\u001b[0m     resp\u001b[39m.\u001b[39mclose()\n",
      "File \u001b[1;32mc:\\Users\\struc\\anaconda3\\envs\\CHB\\lib\\site-packages\\aiohttp\\client_reqrep.py:899\u001b[0m, in \u001b[0;36mClientResponse.start\u001b[1;34m(self, connection)\u001b[0m\n\u001b[0;32m    897\u001b[0m \u001b[39mtry\u001b[39;00m:\n\u001b[0;32m    898\u001b[0m     protocol \u001b[39m=\u001b[39m \u001b[39mself\u001b[39m\u001b[39m.\u001b[39m_protocol\n\u001b[1;32m--> 899\u001b[0m     message, payload \u001b[39m=\u001b[39m \u001b[39mawait\u001b[39;00m protocol\u001b[39m.\u001b[39mread()  \u001b[39m# type: ignore[union-attr]\u001b[39;00m\n\u001b[0;32m    900\u001b[0m \u001b[39mexcept\u001b[39;00m http\u001b[39m.\u001b[39mHttpProcessingError \u001b[39mas\u001b[39;00m exc:\n\u001b[0;32m    901\u001b[0m     \u001b[39mraise\u001b[39;00m ClientResponseError(\n\u001b[0;32m    902\u001b[0m         \u001b[39mself\u001b[39m\u001b[39m.\u001b[39mrequest_info,\n\u001b[0;32m    903\u001b[0m         \u001b[39mself\u001b[39m\u001b[39m.\u001b[39mhistory,\n\u001b[1;32m   (...)\u001b[0m\n\u001b[0;32m    906\u001b[0m         headers\u001b[39m=\u001b[39mexc\u001b[39m.\u001b[39mheaders,\n\u001b[0;32m    907\u001b[0m     ) \u001b[39mfrom\u001b[39;00m \u001b[39mexc\u001b[39;00m\n",
      "File \u001b[1;32mc:\\Users\\struc\\anaconda3\\envs\\CHB\\lib\\site-packages\\aiohttp\\streams.py:616\u001b[0m, in \u001b[0;36mDataQueue.read\u001b[1;34m(self)\u001b[0m\n\u001b[0;32m    614\u001b[0m \u001b[39mself\u001b[39m\u001b[39m.\u001b[39m_waiter \u001b[39m=\u001b[39m \u001b[39mself\u001b[39m\u001b[39m.\u001b[39m_loop\u001b[39m.\u001b[39mcreate_future()\n\u001b[0;32m    615\u001b[0m \u001b[39mtry\u001b[39;00m:\n\u001b[1;32m--> 616\u001b[0m     \u001b[39mawait\u001b[39;00m \u001b[39mself\u001b[39m\u001b[39m.\u001b[39m_waiter\n\u001b[0;32m    617\u001b[0m \u001b[39mexcept\u001b[39;00m (asyncio\u001b[39m.\u001b[39mCancelledError, asyncio\u001b[39m.\u001b[39mTimeoutError):\n\u001b[0;32m    618\u001b[0m     \u001b[39mself\u001b[39m\u001b[39m.\u001b[39m_waiter \u001b[39m=\u001b[39m \u001b[39mNone\u001b[39;00m\n",
      "\u001b[1;31mCancelledError\u001b[0m: "
     ]
    }
   ],
   "source": [
    "# Combine all the data, both games and game details\n",
    "import aiohttp\n",
    "import asyncio\n",
    "import pandas as pd\n",
    "\n",
    "async def fetch_game_details(session, appid):\n",
    "    async with session.get(f\"https://steamspy.com/api.php?request=appdetails&appid={appid}\") as resp:\n",
    "        return await resp.json()\n",
    "\n",
    "async def fetch_games(session):\n",
    "    async with session.get(\"https://api.steampowered.com/ISteamApps/GetAppList/v2\") as resp:\n",
    "        return await resp.json()\n",
    "\n",
    "async def save_games_to_csv(session,games):\n",
    "    games_data = []\n",
    "    for game in games[\"applist\"][\"apps\"]:\n",
    "        game_details = await fetch_game_details(session, game[\"appid\"])\n",
    "        if game_details:\n",
    "            data = game_details\n",
    "            games_data.append((game[\"appid\"], game[\"name\"], data.get(\"price\", \"0\"), data.get(\"developer\", \"\"), data.get(\"publisher\", \"\"), data.get(\"average_forever\", 0), data.get(\"median_forever\", 0), data.get(\"ccu\", 0), data.get(\"genre\", [])))\n",
    "\n",
    "    df = pd.DataFrame(games_data, columns=[\"appid\", \"name\", \"price\", \"developer\", \"publisher\", \"average_forever\", \"median_forever\", \"ccu\", \"genres\"])\n",
    "    df.to_csv(\"all_games.csv\", index=False)\n",
    "    return df\n",
    "\n",
    "async def main():\n",
    "    async with aiohttp.ClientSession() as session:\n",
    "        games = await fetch_games(session)\n",
    "        await save_games_to_csv(session, games)\n",
    "\n",
    "if __name__ == \"__main__\":\n",
    "    await main()\n"
   ]
  }
 ],
 "metadata": {
  "kernelspec": {
   "display_name": "Python 3",
   "language": "python",
   "name": "python3"
  },
  "language_info": {
   "codemirror_mode": {
    "name": "ipython",
    "version": 3
   },
   "file_extension": ".py",
   "mimetype": "text/x-python",
   "name": "python",
   "nbconvert_exporter": "python",
   "pygments_lexer": "ipython3",
   "version": "3.10.9"
  },
  "orig_nbformat": 4,
  "vscode": {
   "interpreter": {
    "hash": "5433fb84773a355a8b49a509755fbaf90af8d3314a937ab5aa5bf275c1195cd2"
   }
  }
 },
 "nbformat": 4,
 "nbformat_minor": 2
}
