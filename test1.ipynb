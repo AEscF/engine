{
 "cells": [
  {
   "cell_type": "code",
   "execution_count": null,
   "metadata": {},
   "outputs": [],
   "source": [
    "import requests\n",
    "import pandas as pd\n",
    "import concurrent.futures\n",
    "import time\n",
    "\n",
    "app_details_url = \"https://store.steampowered.com/api/appdetails?appids={}\"\n",
    "\n",
    "url = \"http://api.steampowered.com/ISteamApps/GetAppList/v2/\"\n",
    "\n",
    "response = requests.get(url)\n",
    "\n",
    "def get_app_details(app_id):\n",
    "    details_response = requests.get(app_details_url.format(app_id))\n",
    "    if details_response.status_code == 200:\n",
    "        details = details_response.json()\n",
    "        if str(app_id) in details:\n",
    "            data = details[str(app_id)].get(\"data\")\n",
    "            if data:\n",
    "                release_date = data.get(\"release_date\", {}).get(\"date\")\n",
    "                price = data.get(\"price_overview\", {}).get(\"final_formatted\")\n",
    "                publisher = \", \".join(data.get(\"publishers\", []))\n",
    "                genres = data.get(\"genres\", [])\n",
    "                return {\"App ID\": app_id, \"Release Date\": release_date, \"Price\": price, \"Publisher\": publisher, \"Genre\": genres}\n",
    "\n",
    "if response.status_code == 200:\n",
    "    app_list = response.json()[\"applist\"][\"apps\"]\n",
    "    apps = []\n",
    "    app_ids = [app[\"appid\"] for app in app_list][:1000] # limit the number of apps to 10\n",
    "    app_names = {app[\"appid\"]: app[\"name\"] for app in app_list}\n",
    "    start_time = time.time()\n",
    "    with concurrent.futures.ThreadPoolExecutor(max_workers=10) as executor:\n",
    "        futures = [executor.submit(get_app_details, app_id) for app_id in app_ids]\n",
    "        for future in concurrent.futures.as_completed(futures):\n",
    "            app = future.result()\n",
    "            if app:\n",
    "                app[\"App Name\"] = app_names[app[\"App ID\"]]\n",
    "                apps.append(app)\n",
    "    df = pd.DataFrame(apps)\n",
    "    df.to_excel(\"apps.xlsx\", index=False)\n",
    "    print(\"Data saved successfully to apps.xlsx\")\n",
    "else:\n",
    "    print(\"Request failed with status code: {}\".format(response.status_code))"
   ]
  }
 ],
 "metadata": {
  "kernelspec": {
   "display_name": "Python 3",
   "language": "python",
   "name": "python3"
  },
  "language_info": {
   "name": "python",
   "version": "3.10.7 (tags/v3.10.7:6cc6b13, Sep  5 2022, 14:08:36) [MSC v.1933 64 bit (AMD64)]"
  },
  "orig_nbformat": 4,
  "vscode": {
   "interpreter": {
    "hash": "7579aee364a2e290dfc6a620616239004625e0c1356cc42c7bb47894a11803af"
   }
  }
 },
 "nbformat": 4,
 "nbformat_minor": 2
}
