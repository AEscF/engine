{
 "cells": [
  {
   "cell_type": "code",
   "execution_count": 1,
   "metadata": {},
   "outputs": [],
   "source": [
    "import pandas as pd"
   ]
  },
  {
   "cell_type": "code",
   "execution_count": 3,
   "metadata": {},
   "outputs": [],
   "source": [
    "# We filter demo games from the all_games_nl.csv file\n",
    "def filter_demo(file_in, file_out):\n",
    "    df = pd.read_csv(file_in)\n",
    "    df.fillna('', inplace=True)\n",
    "    df = df[df['name'].str.contains(['demo'], case=False)]\n",
    "    df.to_csv(file_out, index=False)\n",
    "\n",
    "filter_demo('all_games_nl.csv', 'all_games_demo.csv')"
   ]
  },
  {
   "cell_type": "code",
   "execution_count": 4,
   "metadata": {},
   "outputs": [],
   "source": [
    "# We filter dlc from the all_games_nl.csv file\n",
    "def filter_dlc(file_in, file_out):\n",
    "    df = pd.read_csv(file_in)\n",
    "    df.fillna('', inplace=True)\n",
    "    df = df[df['name'].str.contains('dlc', case=False)]\n",
    "    df.to_csv(file_out, index=False)\n",
    "\n",
    "filter_dlc('all_games_nl.csv', 'all_games_dlc.csv')"
   ]
  },
  {
   "cell_type": "code",
   "execution_count": 7,
   "metadata": {},
   "outputs": [
    {
     "name": "stderr",
     "output_type": "stream",
     "text": [
      "/Users/jpb/opt/anaconda3/lib/python3.8/site-packages/pandas/core/strings.py:2001: UserWarning: This pattern has match groups. To actually get the groups, use str.extract.\n",
      "  return func(self, *args, **kwargs)\n"
     ]
    }
   ],
   "source": [
    "# We filter OST & SOundtracks from the all_games_nl.csv file\n",
    "import re\n",
    "\n",
    "def filter_OST(file_in, file_out):\n",
    "    df = pd.read_csv(file_in)\n",
    "    df.fillna('', inplace=True)\n",
    "    regex = re.compile(r'\\b(OST|Soundtrack|Sound Track|Sound-track)\\b', re.IGNORECASE)\n",
    "    df = df[df['name'].str.contains(regex)]\n",
    "    df.to_csv(file_out, index=False)\n",
    "\n",
    "filter_OST('all_games_nl.csv', 'all_games_OST_soundTrack.csv')"
   ]
  }
 ],
 "metadata": {
  "kernelspec": {
   "display_name": "base",
   "language": "python",
   "name": "python3"
  },
  "language_info": {
   "codemirror_mode": {
    "name": "ipython",
    "version": 3
   },
   "file_extension": ".py",
   "mimetype": "text/x-python",
   "name": "python",
   "nbconvert_exporter": "python",
   "pygments_lexer": "ipython3",
   "version": "3.8.5"
  },
  "orig_nbformat": 4,
  "vscode": {
   "interpreter": {
    "hash": "3acf26d40c8222996467ffd853150454cbd6be753e1f35e71b453a4be54c5d6d"
   }
  }
 },
 "nbformat": 4,
 "nbformat_minor": 2
}
